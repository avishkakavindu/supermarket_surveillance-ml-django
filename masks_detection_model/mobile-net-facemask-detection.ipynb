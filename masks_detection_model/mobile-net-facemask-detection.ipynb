{
 "cells": [
  {
   "cell_type": "code",
   "execution_count": null,
   "metadata": {
    "execution": {
     "iopub.execute_input": "2022-03-17T12:52:49.181518Z",
     "iopub.status.busy": "2022-03-17T12:52:49.181128Z",
     "iopub.status.idle": "2022-03-17T12:52:53.900253Z",
     "shell.execute_reply": "2022-03-17T12:52:53.899507Z",
     "shell.execute_reply.started": "2022-03-17T12:52:49.181447Z"
    }
   },
   "outputs": [],
   "source": [
    "import tensorflow as tf\n",
    "from tensorflow.keras.preprocessing.image import ImageDataGenerator\n",
    "import matplotlib.pyplot as plt"
   ]
  },
  {
   "cell_type": "code",
   "execution_count": null,
   "metadata": {
    "execution": {
     "iopub.execute_input": "2022-03-17T12:52:53.902095Z",
     "iopub.status.busy": "2022-03-17T12:52:53.90185Z",
     "iopub.status.idle": "2022-03-17T12:52:53.909466Z",
     "shell.execute_reply": "2022-03-17T12:52:53.907687Z",
     "shell.execute_reply.started": "2022-03-17T12:52:53.90206Z"
    }
   },
   "outputs": [],
   "source": [
    "DIR = 'dataset'\n",
    "CLASSES = ['with_mask', 'without_mask']"
   ]
  },
  {
   "cell_type": "code",
   "execution_count": null,
   "metadata": {
    "execution": {
     "iopub.execute_input": "2022-03-17T12:52:53.916409Z",
     "iopub.status.busy": "2022-03-17T12:52:53.913941Z",
     "iopub.status.idle": "2022-03-17T12:52:53.927372Z",
     "shell.execute_reply": "2022-03-17T12:52:53.926664Z",
     "shell.execute_reply.started": "2022-03-17T12:52:53.915713Z"
    }
   },
   "outputs": [],
   "source": [
    "image_gen = tf.keras.preprocessing.image.ImageDataGenerator(\n",
    "    rotation_range=90,\n",
    "    width_shift_range=0.2,\n",
    "    height_shift_range=0.2,\n",
    "    brightness_range=(0.2, 0.8),\n",
    "    shear_range=0.2,\n",
    "    zoom_range=0.2,\n",
    "    channel_shift_range=0.2,\n",
    "    fill_mode='nearest',\n",
    "    horizontal_flip=True,\n",
    "    vertical_flip=True,\n",
    "    rescale=1./255,\n",
    "    validation_split=0.3, \n",
    "    dtype=None\n",
    ")"
   ]
  },
  {
   "cell_type": "code",
   "execution_count": null,
   "metadata": {
    "execution": {
     "iopub.execute_input": "2022-03-17T12:52:53.929851Z",
     "iopub.status.busy": "2022-03-17T12:52:53.929467Z",
     "iopub.status.idle": "2022-03-17T12:53:06.654478Z",
     "shell.execute_reply": "2022-03-17T12:53:06.65374Z",
     "shell.execute_reply.started": "2022-03-17T12:52:53.929813Z"
    }
   },
   "outputs": [],
   "source": [
    "train_gen = image_gen.flow_from_directory(\n",
    "    DIR,\n",
    "    target_size=(224, 224),\n",
    "    batch_size=64,\n",
    "    subset='training',\n",
    "    shuffle=True,\n",
    "    classes=CLASSES\n",
    ")"
   ]
  },
  {
   "cell_type": "code",
   "execution_count": null,
   "metadata": {
    "execution": {
     "iopub.execute_input": "2022-03-17T12:53:06.655965Z",
     "iopub.status.busy": "2022-03-17T12:53:06.655569Z",
     "iopub.status.idle": "2022-03-17T12:53:11.332849Z",
     "shell.execute_reply": "2022-03-17T12:53:11.332039Z",
     "shell.execute_reply.started": "2022-03-17T12:53:06.655926Z"
    }
   },
   "outputs": [],
   "source": [
    "validation_gen = image_gen.flow_from_directory(\n",
    "    DIR,\n",
    "    target_size=(224, 224),\n",
    "    batch_size=64,\n",
    "    subset='validation',\n",
    "    shuffle=True,\n",
    "    classes=CLASSES\n",
    ")"
   ]
  },
  {
   "cell_type": "markdown",
   "metadata": {},
   "source": [
    "### Random Images"
   ]
  },
  {
   "cell_type": "code",
   "execution_count": null,
   "metadata": {
    "execution": {
     "iopub.execute_input": "2022-03-17T12:53:11.335278Z",
     "iopub.status.busy": "2022-03-17T12:53:11.33418Z",
     "iopub.status.idle": "2022-03-17T12:54:59.844553Z",
     "shell.execute_reply": "2022-03-17T12:54:59.843063Z",
     "shell.execute_reply.started": "2022-03-17T12:53:11.335232Z"
    }
   },
   "outputs": [],
   "source": [
    "fig = plt.figure(figsize=(8, 8))\n",
    "columns = 4\n",
    "rows = 5\n",
    "for i in range(1, columns*rows +1):\n",
    "    img, label = train_gen.next()\n",
    "    fig.add_subplot(rows, columns, i)\n",
    "    plt.imshow(img[0])\n",
    "    img.size\n",
    "plt.show()"
   ]
  },
  {
   "cell_type": "code",
   "execution_count": null,
   "metadata": {
    "execution": {
     "iopub.execute_input": "2022-03-17T12:54:59.846379Z",
     "iopub.status.busy": "2022-03-17T12:54:59.845548Z",
     "iopub.status.idle": "2022-03-17T12:55:05.191098Z",
     "shell.execute_reply": "2022-03-17T12:55:05.190322Z",
     "shell.execute_reply.started": "2022-03-17T12:54:59.846342Z"
    }
   },
   "outputs": [],
   "source": [
    "import numpy as np\n",
    "\n",
    "# plot function, used to plot images with labels within jupyter notebook\n",
    "def plots(ims, figsize=(12,6), rows=8, interp=False, titles=None):\n",
    "    if type(ims[0]) is np.ndarray:\n",
    "        ims= np.array(ims * 255).astype(np.uint8)\n",
    "        if (ims.shape[-1] != 3):\n",
    "            ims = ims.transpose((0,2,3,1))\n",
    "    f = plt.figure(figsize=figsize)\n",
    "    cols = len(ims)//rows if len(ims) % 2 == 0 else len(ims)//rows + 1\n",
    "    for i in range(len(ims)):\n",
    "        sp = f.add_subplot(rows, cols, i+1)\n",
    "        sp.axis('off')\n",
    "        if titles is not None:\n",
    "            sp.set_title(titles[i], fontsize=16)\n",
    "        plt.imshow(ims[i], interpolation=None if interp else 'none')\n",
    "\n",
    "imgs, labels = next(train_gen)\n"
   ]
  },
  {
   "cell_type": "markdown",
   "metadata": {},
   "source": [
    "### Building Fine-tuned MobileNet model"
   ]
  },
  {
   "cell_type": "code",
   "execution_count": null,
   "metadata": {
    "execution": {
     "iopub.execute_input": "2022-03-17T12:55:05.192592Z",
     "iopub.status.busy": "2022-03-17T12:55:05.192322Z",
     "iopub.status.idle": "2022-03-17T12:55:05.199202Z",
     "shell.execute_reply": "2022-03-17T12:55:05.19847Z",
     "shell.execute_reply.started": "2022-03-17T12:55:05.192559Z"
    }
   },
   "outputs": [],
   "source": [
    "from tensorflow.keras.applications.mobilenet import MobileNet"
   ]
  },
  {
   "cell_type": "code",
   "execution_count": null,
   "metadata": {
    "execution": {
     "iopub.execute_input": "2022-03-17T12:55:05.201003Z",
     "iopub.status.busy": "2022-03-17T12:55:05.200466Z",
     "iopub.status.idle": "2022-03-17T12:55:08.516216Z",
     "shell.execute_reply": "2022-03-17T12:55:08.515504Z",
     "shell.execute_reply.started": "2022-03-17T12:55:05.200956Z"
    }
   },
   "outputs": [],
   "source": [
    "mobile_net = MobileNet()"
   ]
  },
  {
   "cell_type": "code",
   "execution_count": null,
   "metadata": {
    "execution": {
     "iopub.execute_input": "2022-03-17T12:55:08.519507Z",
     "iopub.status.busy": "2022-03-17T12:55:08.519291Z",
     "iopub.status.idle": "2022-03-17T12:55:08.561201Z",
     "shell.execute_reply": "2022-03-17T12:55:08.560554Z",
     "shell.execute_reply.started": "2022-03-17T12:55:08.519476Z"
    }
   },
   "outputs": [],
   "source": [
    "mobile_net.summary()"
   ]
  },
  {
   "cell_type": "code",
   "execution_count": null,
   "metadata": {
    "execution": {
     "iopub.execute_input": "2022-03-17T12:55:08.562429Z",
     "iopub.status.busy": "2022-03-17T12:55:08.562203Z",
     "iopub.status.idle": "2022-03-17T12:55:08.569287Z",
     "shell.execute_reply": "2022-03-17T12:55:08.568596Z",
     "shell.execute_reply.started": "2022-03-17T12:55:08.562396Z"
    }
   },
   "outputs": [],
   "source": [
    "type(mobile_net)"
   ]
  },
  {
   "cell_type": "markdown",
   "metadata": {},
   "source": [
    "### Not a Sequential model so we need to transform the model into Sequential model."
   ]
  },
  {
   "cell_type": "code",
   "execution_count": null,
   "metadata": {
    "execution": {
     "iopub.execute_input": "2022-03-17T12:55:08.57081Z",
     "iopub.status.busy": "2022-03-17T12:55:08.570575Z",
     "iopub.status.idle": "2022-03-17T12:55:08.577123Z",
     "shell.execute_reply": "2022-03-17T12:55:08.576431Z",
     "shell.execute_reply.started": "2022-03-17T12:55:08.570776Z"
    }
   },
   "outputs": [],
   "source": [
    "from tensorflow.keras.models import Sequential\n",
    "from tensorflow.keras.layers import Dropout"
   ]
  },
  {
   "cell_type": "markdown",
   "metadata": {},
   "source": [
    "### We need to take off the last Dense layer because default state it classifies 1000 categories"
   ]
  },
  {
   "cell_type": "code",
   "execution_count": null,
   "metadata": {
    "execution": {
     "iopub.execute_input": "2022-03-17T12:55:08.578646Z",
     "iopub.status.busy": "2022-03-17T12:55:08.578373Z",
     "iopub.status.idle": "2022-03-17T12:55:09.004018Z",
     "shell.execute_reply": "2022-03-17T12:55:09.003142Z",
     "shell.execute_reply.started": "2022-03-17T12:55:08.578612Z"
    }
   },
   "outputs": [],
   "source": [
    "m_net_model = Sequential()\n",
    "\n",
    "for layer in mobile_net.layers[: -1]: # add layers axcept lat dense layer[: -1]\n",
    "    m_net_model.add(layer) # add each layer in vgg16 to Sequential model"
   ]
  },
  {
   "cell_type": "code",
   "execution_count": null,
   "metadata": {
    "execution": {
     "iopub.execute_input": "2022-03-17T12:55:09.005497Z",
     "iopub.status.busy": "2022-03-17T12:55:09.005228Z",
     "iopub.status.idle": "2022-03-17T12:55:09.053542Z",
     "shell.execute_reply": "2022-03-17T12:55:09.052786Z",
     "shell.execute_reply.started": "2022-03-17T12:55:09.005461Z"
    }
   },
   "outputs": [],
   "source": [
    "m_net_model.summary()"
   ]
  },
  {
   "cell_type": "code",
   "execution_count": null,
   "metadata": {
    "execution": {
     "iopub.execute_input": "2022-03-17T12:55:09.055169Z",
     "iopub.status.busy": "2022-03-17T12:55:09.054872Z",
     "iopub.status.idle": "2022-03-17T12:55:09.059176Z",
     "shell.execute_reply": "2022-03-17T12:55:09.058311Z",
     "shell.execute_reply.started": "2022-03-17T12:55:09.055131Z"
    }
   },
   "outputs": [],
   "source": [
    "from tensorflow.keras.layers import Dense"
   ]
  },
  {
   "cell_type": "code",
   "execution_count": null,
   "metadata": {
    "execution": {
     "iopub.execute_input": "2022-03-17T12:55:09.060588Z",
     "iopub.status.busy": "2022-03-17T12:55:09.060353Z",
     "iopub.status.idle": "2022-03-17T12:55:09.082348Z",
     "shell.execute_reply": "2022-03-17T12:55:09.081628Z",
     "shell.execute_reply.started": "2022-03-17T12:55:09.060555Z"
    }
   },
   "outputs": [],
   "source": [
    "m_net_model.add(Dense(2, activation='softmax'))"
   ]
  },
  {
   "cell_type": "code",
   "execution_count": null,
   "metadata": {
    "execution": {
     "iopub.execute_input": "2022-03-17T12:55:09.083888Z",
     "iopub.status.busy": "2022-03-17T12:55:09.083635Z",
     "iopub.status.idle": "2022-03-17T12:55:09.129447Z",
     "shell.execute_reply": "2022-03-17T12:55:09.128768Z",
     "shell.execute_reply.started": "2022-03-17T12:55:09.083853Z"
    }
   },
   "outputs": [],
   "source": [
    "m_net_model.summary()"
   ]
  },
  {
   "cell_type": "code",
   "execution_count": null,
   "metadata": {
    "execution": {
     "iopub.execute_input": "2022-03-17T12:55:09.131275Z",
     "iopub.status.busy": "2022-03-17T12:55:09.131019Z",
     "iopub.status.idle": "2022-03-17T12:55:09.135274Z",
     "shell.execute_reply": "2022-03-17T12:55:09.134427Z",
     "shell.execute_reply.started": "2022-03-17T12:55:09.131243Z"
    }
   },
   "outputs": [],
   "source": [
    "from tensorflow.keras.optimizers import Adam"
   ]
  },
  {
   "cell_type": "code",
   "execution_count": null,
   "metadata": {
    "execution": {
     "iopub.execute_input": "2022-03-17T12:55:09.137025Z",
     "iopub.status.busy": "2022-03-17T12:55:09.136586Z",
     "iopub.status.idle": "2022-03-17T12:55:09.325382Z",
     "shell.execute_reply": "2022-03-17T12:55:09.324493Z",
     "shell.execute_reply.started": "2022-03-17T12:55:09.136983Z"
    }
   },
   "outputs": [],
   "source": [
    "m_net_model.compile(\n",
    "    optimizer=Adam(learning_rate=1e-4),\n",
    "    loss=\"categorical_crossentropy\",\n",
    "    metrics=[\"accuracy\"]\n",
    ")"
   ]
  },
  {
   "cell_type": "code",
   "execution_count": null,
   "metadata": {
    "execution": {
     "iopub.execute_input": "2022-03-17T12:55:09.328453Z",
     "iopub.status.busy": "2022-03-17T12:55:09.328048Z",
     "iopub.status.idle": "2022-03-17T12:55:09.332071Z",
     "shell.execute_reply": "2022-03-17T12:55:09.331161Z",
     "shell.execute_reply.started": "2022-03-17T12:55:09.328414Z"
    }
   },
   "outputs": [],
   "source": [
    "from tensorflow.keras import callbacks"
   ]
  },
  {
   "cell_type": "code",
   "execution_count": null,
   "metadata": {
    "execution": {
     "iopub.execute_input": "2022-03-17T12:55:09.333671Z",
     "iopub.status.busy": "2022-03-17T12:55:09.33335Z",
     "iopub.status.idle": "2022-03-17T12:55:09.340819Z",
     "shell.execute_reply": "2022-03-17T12:55:09.34016Z",
     "shell.execute_reply.started": "2022-03-17T12:55:09.333634Z"
    }
   },
   "outputs": [],
   "source": [
    "# Reduce learning rate when there is a change lesser than <min_delta> in <val_accuracy> for more than <patience> epochs\n",
    "reduce_lr = callbacks.ReduceLROnPlateau(monitor = 'val_accuracy',\n",
    "                                                 mode = 'max',\n",
    "                                                 min_delta = 0.01,\n",
    "                                                 patience = 3,\n",
    "                                                 factor = 0.25,\n",
    "                                                 verbose = 1,\n",
    "                                                 cooldown = 0,\n",
    "                                                 min_lr = 0.00000001)"
   ]
  },
  {
   "cell_type": "code",
   "execution_count": null,
   "metadata": {
    "execution": {
     "iopub.execute_input": "2022-03-17T12:55:09.34271Z",
     "iopub.status.busy": "2022-03-17T12:55:09.34199Z",
     "iopub.status.idle": "2022-03-17T12:55:09.34984Z",
     "shell.execute_reply": "2022-03-17T12:55:09.349178Z",
     "shell.execute_reply.started": "2022-03-17T12:55:09.342672Z"
    }
   },
   "outputs": [],
   "source": [
    "# Stop the training process when there is a change lesser than <min_delta> in <val_accuracy> for more than <patience> epochs\n",
    "early_stopping = callbacks.EarlyStopping(monitor = 'val_accuracy',\n",
    "                                                 mode = 'max',\n",
    "                                                 min_delta = 0.005,\n",
    "                                                 patience = 10,\n",
    "                                                 verbose = 1,\n",
    "                                                 restore_best_weights = True)"
   ]
  },
  {
   "cell_type": "code",
   "execution_count": null,
   "metadata": {
    "execution": {
     "iopub.execute_input": "2022-03-17T12:55:09.351755Z",
     "iopub.status.busy": "2022-03-17T12:55:09.351016Z",
     "iopub.status.idle": "2022-03-17T17:34:51.347368Z",
     "shell.execute_reply": "2022-03-17T17:34:51.345659Z",
     "shell.execute_reply.started": "2022-03-17T12:55:09.35167Z"
    }
   },
   "outputs": [],
   "source": [
    "m_net_hist = m_net_model.fit(\n",
    "    train_gen,\n",
    "    validation_data=validation_gen,\n",
    "    epochs=10,\n",
    "    verbose=1,\n",
    "    callbacks=[reduce_lr, early_stopping]\n",
    ")"
   ]
  },
  {
   "cell_type": "code",
   "execution_count": null,
   "metadata": {
    "execution": {
     "iopub.execute_input": "2022-03-17T17:34:51.350914Z",
     "iopub.status.busy": "2022-03-17T17:34:51.348919Z",
     "iopub.status.idle": "2022-03-17T17:34:51.357668Z",
     "shell.execute_reply": "2022-03-17T17:34:51.356981Z",
     "shell.execute_reply.started": "2022-03-17T17:34:51.35087Z"
    }
   },
   "outputs": [],
   "source": [
    "import matplotlib.pyplot as plt\n",
    "\n",
    "def gen_graph(history, title):\n",
    "    \n",
    "  plt.plot(history.history['accuracy'])\n",
    "  plt.plot(history.history['val_accuracy'])\n",
    "  plt.title('model accuracy')\n",
    "  plt.ylabel('accuracy')\n",
    "  plt.xlabel('epoch')\n",
    "  plt.legend(['train', 'val'], loc='upper left')\n",
    "  plt.show()\n",
    "\n",
    "  plt.plot(history.history['loss'])\n",
    "  plt.plot(history.history['val_loss'])\n",
    "  plt.title('model loss')\n",
    "  plt.ylabel('loss')\n",
    "  plt.xlabel('epoch')\n",
    "  plt.legend(['train', 'val'], loc='upper left')\n",
    "  plt.show()\n",
    "  plt.show()"
   ]
  },
  {
   "cell_type": "code",
   "execution_count": null,
   "metadata": {
    "execution": {
     "iopub.execute_input": "2022-03-17T17:41:01.872136Z",
     "iopub.status.busy": "2022-03-17T17:41:01.871344Z",
     "iopub.status.idle": "2022-03-17T17:41:02.244969Z",
     "shell.execute_reply": "2022-03-17T17:41:02.244289Z",
     "shell.execute_reply.started": "2022-03-17T17:41:01.872078Z"
    }
   },
   "outputs": [],
   "source": [
    "gen_graph(m_net_hist, 'Face Mask Detection MobileNet')"
   ]
  },
  {
   "cell_type": "markdown",
   "metadata": {},
   "source": [
    "### Save Model"
   ]
  },
  {
   "cell_type": "code",
   "execution_count": null,
   "metadata": {
    "execution": {
     "iopub.execute_input": "2022-03-17T17:46:35.837851Z",
     "iopub.status.busy": "2022-03-17T17:46:35.837598Z",
     "iopub.status.idle": "2022-03-17T17:46:36.264642Z",
     "shell.execute_reply": "2022-03-17T17:46:36.26387Z",
     "shell.execute_reply.started": "2022-03-17T17:46:35.837822Z"
    }
   },
   "outputs": [],
   "source": [
    "m_net_model.save('saved_model/mobilenet_model.h5')"
   ]
  },
  {
   "cell_type": "code",
   "execution_count": null,
   "metadata": {},
   "outputs": [],
   "source": []
  }
 ],
 "metadata": {
  "kernelspec": {
   "display_name": "Python 3",
   "language": "python",
   "name": "python3"
  },
  "language_info": {
   "codemirror_mode": {
    "name": "ipython",
    "version": 3
   },
   "file_extension": ".py",
   "mimetype": "text/x-python",
   "name": "python",
   "nbconvert_exporter": "python",
   "pygments_lexer": "ipython3",
   "version": "3.8.5"
  }
 },
 "nbformat": 4,
 "nbformat_minor": 4
}